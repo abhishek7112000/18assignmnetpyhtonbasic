{
 "cells": [
  {
   "cell_type": "code",
   "execution_count": null,
   "id": "b3e90d0f-abaf-4854-b68c-73f76ce4dc5a",
   "metadata": {},
   "outputs": [],
   "source": [
    "1. Create a zoo.py file first. Define the hours() function, which prints the string &#39;Open 9-5 daily&#39;.\n",
    "Then, use the interactive interpreter to import the zoo module and call its hours() function."
   ]
  },
  {
   "cell_type": "code",
   "execution_count": null,
   "id": "2e1d15b8-720a-4ce4-9462-95edcdddbbe8",
   "metadata": {},
   "outputs": [],
   "source": [
    "ans-import zoo\n",
    "zoo.hours()\n",
    "Open 9-5 daily"
   ]
  },
  {
   "cell_type": "code",
   "execution_count": null,
   "id": "6e2282fb-48ad-42c2-a5c4-ab8d915b27c0",
   "metadata": {},
   "outputs": [],
   "source": [
    "2. In the interactive interpreter, import the zoo module as menagerie and call its hours() function."
   ]
  },
  {
   "cell_type": "code",
   "execution_count": null,
   "id": "5cb3752f-41eb-4491-98a6-5f7b1da9e7d1",
   "metadata": {},
   "outputs": [],
   "source": [
    "ans-import zoo as menagerie\n",
    "menagerie.hours()\n",
    "Open 9-5 daily"
   ]
  },
  {
   "cell_type": "code",
   "execution_count": null,
   "id": "8cbb03dd-3b55-4e1c-b92f-d16fb3433e35",
   "metadata": {},
   "outputs": [],
   "source": [
    "3. Using the interpreter, explicitly import and call the hours() function from zoo."
   ]
  },
  {
   "cell_type": "code",
   "execution_count": null,
   "id": "752e829a-0932-4bb7-abda-ee858ec180fd",
   "metadata": {},
   "outputs": [],
   "source": [
    "ans-from zoo import hours\n",
    "hours()\n",
    "Open 9-5 daily"
   ]
  },
  {
   "cell_type": "code",
   "execution_count": null,
   "id": "1bed61c1-9204-4de9-8f50-b09abf96782a",
   "metadata": {},
   "outputs": [],
   "source": [
    "4. Import the hours() function as info and call it."
   ]
  },
  {
   "cell_type": "code",
   "execution_count": null,
   "id": "2e735104-2417-4fcb-bc00-e7641329e711",
   "metadata": {},
   "outputs": [],
   "source": [
    "ans-from zoo import hours as info\n",
    "info()\n",
    "Open 9-5 daily"
   ]
  },
  {
   "cell_type": "code",
   "execution_count": null,
   "id": "5814825c-9aec-4665-bc07-ec99518ec4c3",
   "metadata": {},
   "outputs": [],
   "source": [
    "5. Create a plain dictionary with the key-value pairs &#39;a&#39;: 1, &#39;b&#39;: 2, and &#39;c&#39;: 3, and print it out."
   ]
  },
  {
   "cell_type": "code",
   "execution_count": null,
   "id": "f1a02b5c-304f-4977-8990-e92e3e7a227a",
   "metadata": {},
   "outputs": [],
   "source": [
    "ans-plain_dict = {'a':1,'b':2,'c':3}\n",
    "print(plain_dict)\n",
    "{'a': 1, 'b': 2, 'c': 3}"
   ]
  },
  {
   "cell_type": "code",
   "execution_count": null,
   "id": "9ce376dc-1323-4678-b3e4-9656b3aaf369",
   "metadata": {},
   "outputs": [],
   "source": [
    "6.Make an OrderedDict called fancy from the same pairs listed in 5 and print it. Did it print in the\n",
    "same order as plain?"
   ]
  },
  {
   "cell_type": "code",
   "execution_count": null,
   "id": "d777acb4-fdfe-4f7e-aa87-42f6ef0eabcc",
   "metadata": {},
   "outputs": [],
   "source": [
    "ans-"
   ]
  },
  {
   "cell_type": "code",
   "execution_count": null,
   "id": "109715a3-8880-4e82-8e10-6617ef4e2b87",
   "metadata": {},
   "outputs": [],
   "source": []
  },
  {
   "cell_type": "code",
   "execution_count": null,
   "id": "facf7a3e-dcdc-4d74-9879-c35704633a3e",
   "metadata": {},
   "outputs": [],
   "source": []
  },
  {
   "cell_type": "code",
   "execution_count": null,
   "id": "69b05ffd-b8d0-4c53-9663-8c9e1d4d5839",
   "metadata": {},
   "outputs": [],
   "source": []
  },
  {
   "cell_type": "code",
   "execution_count": null,
   "id": "5a74dfa9-8dd0-4860-b816-308f15be3267",
   "metadata": {},
   "outputs": [],
   "source": []
  }
 ],
 "metadata": {
  "kernelspec": {
   "display_name": "Python 3 (ipykernel)",
   "language": "python",
   "name": "python3"
  },
  "language_info": {
   "codemirror_mode": {
    "name": "ipython",
    "version": 3
   },
   "file_extension": ".py",
   "mimetype": "text/x-python",
   "name": "python",
   "nbconvert_exporter": "python",
   "pygments_lexer": "ipython3",
   "version": "3.10.6"
  }
 },
 "nbformat": 4,
 "nbformat_minor": 5
}
